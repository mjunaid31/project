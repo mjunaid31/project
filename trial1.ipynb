{
 "cells": [
  {
   "cell_type": "code",
   "execution_count": 10,
   "metadata": {},
   "outputs": [],
   "source": [
    "import numpy as np\n",
    "import scipy as scipy\n",
    "import math as math\n",
    "from scipy.optimize import root\n",
    "import matplotlib.pyplot as plt\n",
    "#from Library_term_project import *"
   ]
  },
  {
   "cell_type": "code",
   "execution_count": 11,
   "metadata": {},
   "outputs": [],
   "source": [
    "#crank-nicolson method\n",
    "def crank_nicolson(g: callable,a: callable, b: callable, x0: float, x_m: float, t0: float, t_m: float, N_x: int, N_t: int,req_time_step: int,iflist=True,k=1):\n",
    "    '''\n",
    "    # Crank Nicolson Method\n",
    "    for solving the heat equation of the form u_xx = k*u_t\n",
    "    ## Parameters\n",
    "    - g: Initial condition function u(x,t=0) = g(x)\n",
    "    - a: Boundary condition function u(x=0,t) = a(t)\n",
    "    - b: Boundary condition function u(x=x_m,t) = b(t)\n",
    "    - x0: Initial value of x\n",
    "    - x_m: Final value of x\n",
    "    - t0: Initial value of t\n",
    "    - t_m: Final value of t\n",
    "    - N_x: Number of steps to divide the interval [x0,x_m]\n",
    "    - N_t: Number of steps to divide the interval [t0,t_m]\n",
    "    - req_time_step: The time step to which the solution is to be calculated\n",
    "    - iflist: If True, the function will return the list of u values, if False, the function will return u as a column matrix or a vector\n",
    "    - k: The thermal diffusivity\n",
    "    ## Returns\n",
    "    - x: List of x values\n",
    "    - t: List of t values\n",
    "    - u: List of List of u values or vector depending on the value of iflist\n",
    "    '''\n",
    "    hx = (x_m - x0) / N_x\n",
    "    ht = (t_m - t0) / N_t\n",
    "    x=[x0 + i*hx for i in range(1,N_x)]\n",
    "    alpha = (ht / (hx**2))/k  \n",
    "    u = [[g(i)] for i in x]\n",
    "    B = [[0 for i in range(N_x-1)] for j in range(N_x-1)]    \n",
    "    I = [[0 for i in range(N_x-1)] for j in range(N_x-1)]   \n",
    "    for i in range(len(B)):\n",
    "        for j in range(len(B[i])):\n",
    "            if i==j:\n",
    "                B[i][j]=2*alpha\n",
    "                I[i][j]=2\n",
    "            elif abs(i-j)==1:\n",
    "                B[i][j]=-1*alpha\n",
    "\n",
    "    matrix1=[[I[i][j]-B[i][j] for j in range(N_x-1)] for i in range(N_x-1)]\n",
    "    matrix2=[[I[i][j]+B[i][j] for j in range(N_x-1)] for i in range(N_x-1)] \n",
    "    matrix21=np.linalg.inv(matrix2)\n",
    "    del matrix2\n",
    "    matrix3=np.matmul(matrix21,matrix1)     \n",
    "    del matrix1,matrix21\n",
    "    matrix4=np.linalg.matrix_power(matrix3,req_time_step)\n",
    "    del matrix3\n",
    "    v_req = np.matmul(matrix4,u).tolist()\n",
    "    del matrix4\n",
    "    v_req.insert(0,[a(t0)])\n",
    "    v_req.append([b(t0)])\n",
    "    x.insert(0,x0)\n",
    "    x.append(x_m)\n",
    "    ulist=[]\n",
    "    if iflist==False:\n",
    "        return x,v_req,[t0 + i*ht for i in range(N_t+1)]\n",
    "    else:\n",
    "        for i in range(len(v_req)):\n",
    "            ulist.append(v_req[i][0])        \n",
    "        return x,ulist,[t0 + i*ht for i in range(req_time_step+1)]\n",
    "    "
   ]
  },
  {
   "cell_type": "code",
   "execution_count": 12,
   "metadata": {},
   "outputs": [],
   "source": [
    "def initfn(z,t):\n",
    "    def expression(n,z,t):\n",
    "        return ((-1)**(n-1))/(2*n-1)*np.cos((2*n-1)*np.pi*z/Lc)*np.exp(-(((2*n-1)*np.pi/Lc)**2)*lamda/c*t)\n",
    "\n",
    "    ab = np.sum(expression(np.arange(start, end+1),z,t))\n",
    "    #print(ab)\n",
    "    ans=(((ab*2/np.pi)+0.5)*Tu)+((0.5-(ab*2/np.pi))*Tl)\n",
    "    return ans"
   ]
  },
  {
   "cell_type": "code",
   "execution_count": 13,
   "metadata": {},
   "outputs": [],
   "source": [
    "Tu=10\n",
    "Tl=20\n",
    "lamda=2\n",
    "c=4174000\n",
    "#c=2104000\n",
    "#t=86400\n",
    "\n",
    "Lc=4\n",
    "Lu=0\n",
    "l=0.01\n",
    "nz=int((Lc-Lu)/l)\n",
    "zlist = np.linspace(Lu, Lc, nz+1)\n",
    "\n",
    "t_i = 0    \n",
    "t_f = 189\n",
    "nt = 16329600\n",
    "\n",
    "\n",
    "start = 1\n",
    "end = 10000\n",
    "\n",
    "def g(z):\n",
    "    return initfn(z,t_i)\n",
    "def a(t):\n",
    "    return initfn(Lu,t)\n",
    "def b(t):\n",
    "    return initfn(Lc,t)\n"
   ]
  },
  {
   "cell_type": "code",
   "execution_count": 14,
   "metadata": {},
   "outputs": [
    {
     "name": "stdout",
     "output_type": "stream",
     "text": [
      "19.999774920922693\n",
      "10.000159154942697\n",
      "19.999840845057303\n"
     ]
    }
   ],
   "source": [
    "print(g(5))\n",
    "print(a(0))\n",
    "print(b(0))\n",
    "\n",
    "x_values, B_values, time_values = crank_nicolson(g,a,b,Lu,Lc,t_i,t_f, nz, nt, 34)"
   ]
  },
  {
   "cell_type": "code",
   "execution_count": 15,
   "metadata": {},
   "outputs": [],
   "source": [
    "def plot_crank_nicolson(g,a,b,Lu,Lc,t_i,t_f, nz, nt, time_points):\n",
    "    \n",
    "    for time_point in time_points:\n",
    "        x_values, B_values, time_values = crank_nicolson(g,a,b,Lu,Lc,t_i,t_f, nz, nt, time_point)\n",
    "        plt.plot(B_values,x_values,  label=\"t = \" + str(round(time_values[time_point], 2)))\n",
    "        del x_values, B_values, time_values\n",
    "\n",
    "    plt.legend()\n",
    "    plt.ylabel(\"Position (x)\")\n",
    "    plt.xlabel(\"B_phi\")\n",
    "    plt.grid()\n",
    "    plt.show()"
   ]
  },
  {
   "cell_type": "code",
   "execution_count": 18,
   "metadata": {},
   "outputs": [
    {
     "data": {
      "image/png": "[encoded data removed]",
      "text/plain": [
       "<Figure size 640x480 with 1 Axes>"
      ]
     },
     "metadata": {},
     "output_type": "display_data"
    }
   ],
   "source": [
    "time_points = [432000]\n",
    "plot_crank_nicolson(g,a,b,Lu,Lc,t_i,t_f, nz, nt, time_points)\n"
   ]
  }
 ],
 "metadata": {
  "kernelspec": {
   "display_name": "Python 3",
   "language": "python",
   "name": "python3"
  },
  "language_info": {
   "codemirror_mode": {
    "name": "ipython",
    "version": 3
   },
   "file_extension": ".py",
   "mimetype": "text/x-python",
   "name": "python",
   "nbconvert_exporter": "python",
   "pygments_lexer": "ipython3",
   "version": "3.8.10"
  }
 },
 "nbformat": 4,
 "nbformat_minor": 2
}
